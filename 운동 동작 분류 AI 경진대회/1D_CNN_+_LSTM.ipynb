{
  "nbformat": 4,
  "nbformat_minor": 0,
  "metadata": {
    "colab": {
      "name": "1D CNN + LSTM.ipynb",
      "provenance": [],
      "collapsed_sections": []
    },
    "kernelspec": {
      "name": "python3",
      "display_name": "Python 3"
    },
    "language_info": {
      "name": "python"
    },
    "accelerator": "GPU"
  },
  "cells": [
    {
      "cell_type": "markdown",
      "metadata": {
        "id": "wr5UcydIzoNa"
      },
      "source": [
        "문제 : https://dacon.io/competitions/official/235689/overview/description/\n",
        "\n",
        "출처 : https://dacon.io/codeshare/2400?page=1&dtype=recent"
      ]
    },
    {
      "cell_type": "code",
      "metadata": {
        "colab": {
          "base_uri": "https://localhost:8080/"
        },
        "id": "OMPn9faSzwE8",
        "outputId": "a4864d74-b3d9-41ba-9769-2a237e005b02"
      },
      "source": [
        "cd drive/MyDrive/dacon/운동 동작 분류 AI 경진대회"
      ],
      "execution_count": 1,
      "outputs": [
        {
          "output_type": "stream",
          "text": [
            "/content/drive/MyDrive/dacon/운동 동작 분류 AI 경진대회\n"
          ],
          "name": "stdout"
        }
      ]
    },
    {
      "cell_type": "code",
      "metadata": {
        "colab": {
          "base_uri": "https://localhost:8080/"
        },
        "id": "jma82RgZzwHX",
        "outputId": "37a5a27f-ea4a-4028-d5ea-4805e09cc1cb"
      },
      "source": [
        "ls"
      ],
      "execution_count": 2,
      "outputs": [
        {
          "output_type": "stream",
          "text": [
            "'1d cnn.ipynb'          \u001b[0m\u001b[01;34mmodel_kf\u001b[0m/               train_features.csv\n",
            "'1D CNN + LSTM.ipynb'   sample_submission.csv   train_labels.csv\n",
            " \u001b[01;34mmodel_1dcnn+lstm\u001b[0m/      test_features.csv\n"
          ],
          "name": "stdout"
        }
      ]
    },
    {
      "cell_type": "code",
      "metadata": {
        "id": "Hvvbo1MVzwJi"
      },
      "source": [
        "import os\n",
        "import pandas as pd\n",
        "import numpy as np\n",
        "import tensorflow as tf\n",
        "import keras\n",
        "from keras.models import Sequential, Model\n",
        "from keras.layers import Dense, LSTM, Conv1D, MaxPooling1D, Dropout, Flatten, BatchNormalization, Input, Convolution2D, Activation,TimeDistributed\n",
        "from keras.layers import Input, multiply, concatenate, Activation, Masking, Reshape\n",
        "from keras.layers import GlobalAveragePooling1D, Permute, Dropout\n",
        "import random\n",
        "from sklearn.model_selection import train_test_split\n",
        "import matplotlib.pyplot as plt\n",
        "from tqdm import tqdm\n",
        "from glob import glob\n",
        "\n",
        "\n",
        "train=pd.read_csv('train_features.csv')\n",
        "train_labels=pd.read_csv('train_labels.csv')\n",
        "test=pd.read_csv('test_features.csv')\n",
        "submission=pd.read_csv('sample_submission.csv')"
      ],
      "execution_count": 3,
      "outputs": []
    },
    {
      "cell_type": "code",
      "metadata": {
        "id": "TpUcoV3lzwLz"
      },
      "source": [
        "# 각 칼럼 표준화\n",
        "column_list = ['acc_x','acc_y','acc_z','gy_x','gy_y','gy_z']\n",
        "for column in column_list:\n",
        "  train[column] = (train[column]-train[column].mean())/train[column].std()"
      ],
      "execution_count": 4,
      "outputs": []
    },
    {
      "cell_type": "code",
      "metadata": {
        "id": "wqETRN8BDF04",
        "colab": {
          "base_uri": "https://localhost:8080/",
          "height": 402
        },
        "outputId": "6c9e6ea1-afbe-4da4-9203-993b0d4e9a88"
      },
      "source": [
        "train"
      ],
      "execution_count": 5,
      "outputs": [
        {
          "output_type": "execute_result",
          "data": {
            "text/html": [
              "<div>\n",
              "<style scoped>\n",
              "    .dataframe tbody tr th:only-of-type {\n",
              "        vertical-align: middle;\n",
              "    }\n",
              "\n",
              "    .dataframe tbody tr th {\n",
              "        vertical-align: top;\n",
              "    }\n",
              "\n",
              "    .dataframe thead th {\n",
              "        text-align: right;\n",
              "    }\n",
              "</style>\n",
              "<table border=\"1\" class=\"dataframe\">\n",
              "  <thead>\n",
              "    <tr style=\"text-align: right;\">\n",
              "      <th></th>\n",
              "      <th>id</th>\n",
              "      <th>time</th>\n",
              "      <th>acc_x</th>\n",
              "      <th>acc_y</th>\n",
              "      <th>acc_z</th>\n",
              "      <th>gy_x</th>\n",
              "      <th>gy_y</th>\n",
              "      <th>gy_z</th>\n",
              "    </tr>\n",
              "  </thead>\n",
              "  <tbody>\n",
              "    <tr>\n",
              "      <th>0</th>\n",
              "      <td>0</td>\n",
              "      <td>0</td>\n",
              "      <td>2.307313</td>\n",
              "      <td>-0.029939</td>\n",
              "      <td>-0.432104</td>\n",
              "      <td>0.011776</td>\n",
              "      <td>-0.410858</td>\n",
              "      <td>-0.461007</td>\n",
              "    </tr>\n",
              "    <tr>\n",
              "      <th>1</th>\n",
              "      <td>0</td>\n",
              "      <td>1</td>\n",
              "      <td>2.421086</td>\n",
              "      <td>-0.063321</td>\n",
              "      <td>-0.504058</td>\n",
              "      <td>0.026484</td>\n",
              "      <td>-0.528052</td>\n",
              "      <td>-0.365459</td>\n",
              "    </tr>\n",
              "    <tr>\n",
              "      <th>2</th>\n",
              "      <td>0</td>\n",
              "      <td>2</td>\n",
              "      <td>2.444664</td>\n",
              "      <td>-0.056749</td>\n",
              "      <td>-0.654198</td>\n",
              "      <td>-0.037962</td>\n",
              "      <td>-0.596041</td>\n",
              "      <td>-0.366767</td>\n",
              "    </tr>\n",
              "    <tr>\n",
              "      <th>3</th>\n",
              "      <td>0</td>\n",
              "      <td>3</td>\n",
              "      <td>2.428612</td>\n",
              "      <td>-0.116782</td>\n",
              "      <td>-0.573407</td>\n",
              "      <td>0.066099</td>\n",
              "      <td>-0.725311</td>\n",
              "      <td>-0.401232</td>\n",
              "    </tr>\n",
              "    <tr>\n",
              "      <th>4</th>\n",
              "      <td>0</td>\n",
              "      <td>4</td>\n",
              "      <td>2.439474</td>\n",
              "      <td>-0.044220</td>\n",
              "      <td>-0.588885</td>\n",
              "      <td>0.091969</td>\n",
              "      <td>-0.784094</td>\n",
              "      <td>-0.408413</td>\n",
              "    </tr>\n",
              "    <tr>\n",
              "      <th>...</th>\n",
              "      <td>...</td>\n",
              "      <td>...</td>\n",
              "      <td>...</td>\n",
              "      <td>...</td>\n",
              "      <td>...</td>\n",
              "      <td>...</td>\n",
              "      <td>...</td>\n",
              "      <td>...</td>\n",
              "    </tr>\n",
              "    <tr>\n",
              "      <th>1874995</th>\n",
              "      <td>3124</td>\n",
              "      <td>595</td>\n",
              "      <td>-0.367431</td>\n",
              "      <td>-0.845648</td>\n",
              "      <td>0.503707</td>\n",
              "      <td>-0.461266</td>\n",
              "      <td>-1.413128</td>\n",
              "      <td>-1.092639</td>\n",
              "    </tr>\n",
              "    <tr>\n",
              "      <th>1874996</th>\n",
              "      <td>3124</td>\n",
              "      <td>596</td>\n",
              "      <td>-0.326315</td>\n",
              "      <td>-0.845833</td>\n",
              "      <td>0.578875</td>\n",
              "      <td>-0.474109</td>\n",
              "      <td>-1.382884</td>\n",
              "      <td>-1.097377</td>\n",
              "    </tr>\n",
              "    <tr>\n",
              "      <th>1874997</th>\n",
              "      <td>3124</td>\n",
              "      <td>597</td>\n",
              "      <td>-0.300794</td>\n",
              "      <td>-0.859728</td>\n",
              "      <td>0.652722</td>\n",
              "      <td>-0.436694</td>\n",
              "      <td>-1.341672</td>\n",
              "      <td>-1.136169</td>\n",
              "    </tr>\n",
              "    <tr>\n",
              "      <th>1874998</th>\n",
              "      <td>3124</td>\n",
              "      <td>598</td>\n",
              "      <td>-0.253120</td>\n",
              "      <td>-0.886873</td>\n",
              "      <td>0.673002</td>\n",
              "      <td>-0.367051</td>\n",
              "      <td>-1.346630</td>\n",
              "      <td>-1.148831</td>\n",
              "    </tr>\n",
              "    <tr>\n",
              "      <th>1874999</th>\n",
              "      <td>3124</td>\n",
              "      <td>599</td>\n",
              "      <td>-0.180373</td>\n",
              "      <td>-0.916965</td>\n",
              "      <td>0.695634</td>\n",
              "      <td>-0.273040</td>\n",
              "      <td>-1.360851</td>\n",
              "      <td>-1.154731</td>\n",
              "    </tr>\n",
              "  </tbody>\n",
              "</table>\n",
              "<p>1875000 rows × 8 columns</p>\n",
              "</div>"
            ],
            "text/plain": [
              "           id  time     acc_x     acc_y     acc_z      gy_x      gy_y      gy_z\n",
              "0           0     0  2.307313 -0.029939 -0.432104  0.011776 -0.410858 -0.461007\n",
              "1           0     1  2.421086 -0.063321 -0.504058  0.026484 -0.528052 -0.365459\n",
              "2           0     2  2.444664 -0.056749 -0.654198 -0.037962 -0.596041 -0.366767\n",
              "3           0     3  2.428612 -0.116782 -0.573407  0.066099 -0.725311 -0.401232\n",
              "4           0     4  2.439474 -0.044220 -0.588885  0.091969 -0.784094 -0.408413\n",
              "...       ...   ...       ...       ...       ...       ...       ...       ...\n",
              "1874995  3124   595 -0.367431 -0.845648  0.503707 -0.461266 -1.413128 -1.092639\n",
              "1874996  3124   596 -0.326315 -0.845833  0.578875 -0.474109 -1.382884 -1.097377\n",
              "1874997  3124   597 -0.300794 -0.859728  0.652722 -0.436694 -1.341672 -1.136169\n",
              "1874998  3124   598 -0.253120 -0.886873  0.673002 -0.367051 -1.346630 -1.148831\n",
              "1874999  3124   599 -0.180373 -0.916965  0.695634 -0.273040 -1.360851 -1.154731\n",
              "\n",
              "[1875000 rows x 8 columns]"
            ]
          },
          "metadata": {
            "tags": []
          },
          "execution_count": 5
        }
      ]
    },
    {
      "cell_type": "code",
      "metadata": {
        "id": "ZUTTbBYWzwOA"
      },
      "source": [
        "train_id, test_id = train_test_split(train['id'].unique(), test_size=0.01, random_state = 2)"
      ],
      "execution_count": 6,
      "outputs": []
    },
    {
      "cell_type": "code",
      "metadata": {
        "colab": {
          "base_uri": "https://localhost:8080/"
        },
        "id": "gag7CscKzwQL",
        "outputId": "ea9e1d8a-ee16-48ef-d983-84a4c726fb36"
      },
      "source": [
        "# LSTM 모델에 넣기 위해서 transpose 해서 (600,6)으로 만들었습니다.\n",
        "x_val = []\n",
        "          \n",
        "for uid in tqdm(test_id):\n",
        "    temp = np.array(train[train['id'] == uid].iloc[:,2:], np.float32).T\n",
        "    x_val.append(temp)\n",
        "\n",
        "x_val = np.array(x_val, np.float32)\n",
        "x_val = x_val[:,:,:,np.newaxis]\n",
        "x_val_trans = np.transpose(x_val,(0,2,1,3))\n",
        "x_val_trans.shape"
      ],
      "execution_count": 7,
      "outputs": [
        {
          "output_type": "stream",
          "text": [
            "100%|██████████| 32/32 [00:00<00:00, 231.21it/s]\n"
          ],
          "name": "stderr"
        },
        {
          "output_type": "execute_result",
          "data": {
            "text/plain": [
              "(32, 600, 6, 1)"
            ]
          },
          "metadata": {
            "tags": []
          },
          "execution_count": 7
        }
      ]
    },
    {
      "cell_type": "code",
      "metadata": {
        "colab": {
          "base_uri": "https://localhost:8080/"
        },
        "id": "cffpwgLzzwSh",
        "outputId": "21719cbc-969d-4850-b306-4305b1cc6491"
      },
      "source": [
        "x_train = []\n",
        "\n",
        "for uid in tqdm(train_id):\n",
        "    temp = np.array(train[train['id'] == uid].iloc[:,2:], np.float32).T\n",
        "    x_train.append(temp)\n",
        "\n",
        "x_train = np.array(x_train, np.float32)\n",
        "x_train = x_train[:,:,:,np.newaxis]\n",
        "x_train.shape"
      ],
      "execution_count": 8,
      "outputs": [
        {
          "output_type": "stream",
          "text": [
            "100%|██████████| 3093/3093 [00:11<00:00, 274.00it/s]\n"
          ],
          "name": "stderr"
        },
        {
          "output_type": "execute_result",
          "data": {
            "text/plain": [
              "(3093, 6, 600, 1)"
            ]
          },
          "metadata": {
            "tags": []
          },
          "execution_count": 8
        }
      ]
    },
    {
      "cell_type": "code",
      "metadata": {
        "id": "pPNo5VO5AJ9o"
      },
      "source": [
        "train_arg = []\n",
        "def aug(data, uid, shift = 0):\n",
        "    shift_data = np.roll(data, shift, axis=2)\n",
        "    train_arg.append(shift_data)\n",
        "    \n",
        "for _ in range(6):\n",
        "    aug(x_train, 0, _*100)   "
      ],
      "execution_count": 9,
      "outputs": []
    },
    {
      "cell_type": "code",
      "metadata": {
        "id": "cJj3hLQEAKBU"
      },
      "source": [
        "for i in range(5):\n",
        "  train_arg[i] = np.transpose(train_arg[i],(0,2,1,3))"
      ],
      "execution_count": 10,
      "outputs": []
    },
    {
      "cell_type": "code",
      "metadata": {
        "id": "lwWVQ-VgAKCE"
      },
      "source": [
        "y = train_labels['label']\n",
        "y_train = y[train_id]\n",
        "y_test = y[test_id]\n",
        "\n",
        "y_train = tf.keras.utils.to_categorical(y_train) \n",
        "y_test = tf.keras.utils.to_categorical(y_test)"
      ],
      "execution_count": 11,
      "outputs": []
    },
    {
      "cell_type": "code",
      "metadata": {
        "colab": {
          "base_uri": "https://localhost:8080/"
        },
        "id": "etbPB_zXAKCu",
        "outputId": "474255fc-2717-49a3-bc12-d2d56a5eed9d"
      },
      "source": [
        "x_arg = np.concatenate([train_arg[0] ,train_arg[1],train_arg[2] ,train_arg[3],train_arg[4]])\n",
        "y_arg = np.concatenate([y_train,y_train,y_train, y_train, y_train])\n",
        "x_arg = x_arg.reshape(-1,600,6)\n",
        "x_arg.shape"
      ],
      "execution_count": 12,
      "outputs": [
        {
          "output_type": "execute_result",
          "data": {
            "text/plain": [
              "(15465, 600, 6)"
            ]
          },
          "metadata": {
            "tags": []
          },
          "execution_count": 12
        }
      ]
    },
    {
      "cell_type": "code",
      "metadata": {
        "id": "3Cto-lYNAKDX"
      },
      "source": [
        ""
      ],
      "execution_count": 12,
      "outputs": []
    },
    {
      "cell_type": "markdown",
      "metadata": {
        "id": "GtauKW9jHAA9"
      },
      "source": [
        "# model"
      ]
    },
    {
      "cell_type": "code",
      "metadata": {
        "colab": {
          "base_uri": "https://localhost:8080/"
        },
        "id": "hxZLUu3lAKD8",
        "outputId": "c71092e8-19b0-4525-91e8-99529d647a5a"
      },
      "source": [
        "def generate_model():\n",
        "    ip = Input(shape=(600, 6))\n",
        "\n",
        "    x = Masking()(ip)\n",
        "    x = LSTM(units = 50, return_sequences = True)(x)\n",
        "    x = LSTM(units=50)(x)\n",
        "    x = Dropout(0.3)(x)\n",
        "\n",
        "  \n",
        "    y = Reshape((3600,1))(ip)\n",
        "    y = Conv1D (kernel_size=3, filters=128, strides=3, padding='valid',kernel_initializer='he_uniform')(y)\n",
        "    y = BatchNormalization()(y)\n",
        "    y = Activation('relu')(y)\n",
        "\n",
        "    \n",
        "    y = Conv1D (kernel_size=3, filters=128, padding='same', kernel_initializer='he_uniform')(y)\n",
        "    y = BatchNormalization()(y)\n",
        "    y = Activation('relu')(y)\n",
        "    y = MaxPooling1D(pool_size=3, strides=3)(y)\n",
        "   \n",
        "    y = Conv1D (kernel_size=3, filters=128, padding='same', kernel_initializer='he_uniform')(y)\n",
        "    y = BatchNormalization()(y)\n",
        "    y = Activation('relu')(y)\n",
        "    y = MaxPooling1D(pool_size=3, strides=3)(y)\n",
        "    \n",
        "    y = Conv1D (kernel_size=3, filters=256, padding='same', kernel_initializer='he_uniform')(y)\n",
        "    y = BatchNormalization()(y)\n",
        "    y = Activation('relu')(y)\n",
        "    y = MaxPooling1D(pool_size=3, strides=3)(y) \n",
        "\n",
        "  \n",
        "    y = Conv1D (kernel_size=3, filters=256, padding='same', kernel_initializer='he_uniform')(y)\n",
        "    y = BatchNormalization()(y)\n",
        "    y = Activation('relu')(y)\n",
        "    y = MaxPooling1D(pool_size=3, strides=3)(y) \n",
        "     \n",
        "    y = Conv1D (kernel_size=3, filters=256, padding='same', kernel_initializer='he_uniform')(y)\n",
        "    y = BatchNormalization()(y)\n",
        "    y = Activation('relu')(y)\n",
        "    y = MaxPooling1D(pool_size=3, strides=3)(y) \n",
        "     \n",
        "    y = Conv1D (kernel_size=3, filters=256, padding='same', kernel_initializer='he_uniform')(y)\n",
        "    y = BatchNormalization()(y)\n",
        "    y = Activation('relu')(y)\n",
        "    y = MaxPooling1D(pool_size=3, strides=3)(y) \n",
        "   \n",
        "    y = Dropout(0.5)(y)\n",
        "    y = Flatten()(y)\n",
        "    \n",
        "    x = concatenate([x, y])\n",
        "\n",
        "    out = Dense(61, activation='softmax')(x)\n",
        "\n",
        "    model = Model(ip, out)\n",
        "    #model.summary()\n",
        "    return model\n",
        "model = generate_model()\n",
        "model.summary()"
      ],
      "execution_count": 13,
      "outputs": [
        {
          "output_type": "stream",
          "text": [
            "Model: \"model\"\n",
            "__________________________________________________________________________________________________\n",
            "Layer (type)                    Output Shape         Param #     Connected to                     \n",
            "==================================================================================================\n",
            "input_1 (InputLayer)            [(None, 600, 6)]     0                                            \n",
            "__________________________________________________________________________________________________\n",
            "reshape (Reshape)               (None, 3600, 1)      0           input_1[0][0]                    \n",
            "__________________________________________________________________________________________________\n",
            "conv1d (Conv1D)                 (None, 1200, 128)    512         reshape[0][0]                    \n",
            "__________________________________________________________________________________________________\n",
            "batch_normalization (BatchNorma (None, 1200, 128)    512         conv1d[0][0]                     \n",
            "__________________________________________________________________________________________________\n",
            "activation (Activation)         (None, 1200, 128)    0           batch_normalization[0][0]        \n",
            "__________________________________________________________________________________________________\n",
            "conv1d_1 (Conv1D)               (None, 1200, 128)    49280       activation[0][0]                 \n",
            "__________________________________________________________________________________________________\n",
            "batch_normalization_1 (BatchNor (None, 1200, 128)    512         conv1d_1[0][0]                   \n",
            "__________________________________________________________________________________________________\n",
            "activation_1 (Activation)       (None, 1200, 128)    0           batch_normalization_1[0][0]      \n",
            "__________________________________________________________________________________________________\n",
            "max_pooling1d (MaxPooling1D)    (None, 400, 128)     0           activation_1[0][0]               \n",
            "__________________________________________________________________________________________________\n",
            "conv1d_2 (Conv1D)               (None, 400, 128)     49280       max_pooling1d[0][0]              \n",
            "__________________________________________________________________________________________________\n",
            "batch_normalization_2 (BatchNor (None, 400, 128)     512         conv1d_2[0][0]                   \n",
            "__________________________________________________________________________________________________\n",
            "activation_2 (Activation)       (None, 400, 128)     0           batch_normalization_2[0][0]      \n",
            "__________________________________________________________________________________________________\n",
            "max_pooling1d_1 (MaxPooling1D)  (None, 133, 128)     0           activation_2[0][0]               \n",
            "__________________________________________________________________________________________________\n",
            "conv1d_3 (Conv1D)               (None, 133, 256)     98560       max_pooling1d_1[0][0]            \n",
            "__________________________________________________________________________________________________\n",
            "batch_normalization_3 (BatchNor (None, 133, 256)     1024        conv1d_3[0][0]                   \n",
            "__________________________________________________________________________________________________\n",
            "activation_3 (Activation)       (None, 133, 256)     0           batch_normalization_3[0][0]      \n",
            "__________________________________________________________________________________________________\n",
            "max_pooling1d_2 (MaxPooling1D)  (None, 44, 256)      0           activation_3[0][0]               \n",
            "__________________________________________________________________________________________________\n",
            "conv1d_4 (Conv1D)               (None, 44, 256)      196864      max_pooling1d_2[0][0]            \n",
            "__________________________________________________________________________________________________\n",
            "batch_normalization_4 (BatchNor (None, 44, 256)      1024        conv1d_4[0][0]                   \n",
            "__________________________________________________________________________________________________\n",
            "activation_4 (Activation)       (None, 44, 256)      0           batch_normalization_4[0][0]      \n",
            "__________________________________________________________________________________________________\n",
            "max_pooling1d_3 (MaxPooling1D)  (None, 14, 256)      0           activation_4[0][0]               \n",
            "__________________________________________________________________________________________________\n",
            "conv1d_5 (Conv1D)               (None, 14, 256)      196864      max_pooling1d_3[0][0]            \n",
            "__________________________________________________________________________________________________\n",
            "batch_normalization_5 (BatchNor (None, 14, 256)      1024        conv1d_5[0][0]                   \n",
            "__________________________________________________________________________________________________\n",
            "activation_5 (Activation)       (None, 14, 256)      0           batch_normalization_5[0][0]      \n",
            "__________________________________________________________________________________________________\n",
            "max_pooling1d_4 (MaxPooling1D)  (None, 4, 256)       0           activation_5[0][0]               \n",
            "__________________________________________________________________________________________________\n",
            "conv1d_6 (Conv1D)               (None, 4, 256)       196864      max_pooling1d_4[0][0]            \n",
            "__________________________________________________________________________________________________\n",
            "batch_normalization_6 (BatchNor (None, 4, 256)       1024        conv1d_6[0][0]                   \n",
            "__________________________________________________________________________________________________\n",
            "masking (Masking)               (None, 600, 6)       0           input_1[0][0]                    \n",
            "__________________________________________________________________________________________________\n",
            "activation_6 (Activation)       (None, 4, 256)       0           batch_normalization_6[0][0]      \n",
            "__________________________________________________________________________________________________\n",
            "lstm (LSTM)                     (None, 600, 50)      11400       masking[0][0]                    \n",
            "__________________________________________________________________________________________________\n",
            "max_pooling1d_5 (MaxPooling1D)  (None, 1, 256)       0           activation_6[0][0]               \n",
            "__________________________________________________________________________________________________\n",
            "lstm_1 (LSTM)                   (None, 50)           20200       lstm[0][0]                       \n",
            "__________________________________________________________________________________________________\n",
            "dropout_1 (Dropout)             (None, 1, 256)       0           max_pooling1d_5[0][0]            \n",
            "__________________________________________________________________________________________________\n",
            "dropout (Dropout)               (None, 50)           0           lstm_1[0][0]                     \n",
            "__________________________________________________________________________________________________\n",
            "flatten (Flatten)               (None, 256)          0           dropout_1[0][0]                  \n",
            "__________________________________________________________________________________________________\n",
            "concatenate (Concatenate)       (None, 306)          0           dropout[0][0]                    \n",
            "                                                                 flatten[0][0]                    \n",
            "__________________________________________________________________________________________________\n",
            "dense (Dense)                   (None, 61)           18727       concatenate[0][0]                \n",
            "==================================================================================================\n",
            "Total params: 844,183\n",
            "Trainable params: 841,367\n",
            "Non-trainable params: 2,816\n",
            "__________________________________________________________________________________________________\n"
          ],
          "name": "stdout"
        }
      ]
    },
    {
      "cell_type": "code",
      "metadata": {
        "colab": {
          "base_uri": "https://localhost:8080/",
          "height": 1000
        },
        "id": "bud4DW4CAKEj",
        "outputId": "b0009242-931e-44cb-8d43-48fda6d957f9"
      },
      "source": [
        "num_models=15\n",
        "model_list=[]\n",
        "\n",
        "for i in tqdm(range(num_models)):\n",
        "    model = generate_model()\n",
        "    model.compile(loss='categorical_crossentropy',\n",
        "              optimizer='adam',\n",
        "              metrics=['accuracy'])\n",
        "    model.fit(x_arg,y_arg, epochs=25, batch_size=32,validation_split=0.2)\n",
        "    model_list.append(model)\n",
        "    model.save(f\"./model_1dcnn+lstm/model_{i}.h5\")"
      ],
      "execution_count": 14,
      "outputs": [
        {
          "output_type": "stream",
          "text": [
            "\r  0%|          | 0/15 [00:00<?, ?it/s]"
          ],
          "name": "stderr"
        },
        {
          "output_type": "stream",
          "text": [
            "Epoch 1/25\n",
            "387/387 [==============================] - 98s 224ms/step - loss: 2.2531 - accuracy: 0.5317 - val_loss: 1.1531 - val_accuracy: 0.6673\n",
            "Epoch 2/25\n",
            "387/387 [==============================] - 81s 209ms/step - loss: 0.9922 - accuracy: 0.7177 - val_loss: 0.7152 - val_accuracy: 0.7866\n",
            "Epoch 3/25\n",
            "387/387 [==============================] - 81s 209ms/step - loss: 0.6966 - accuracy: 0.7878 - val_loss: 0.5776 - val_accuracy: 0.8225\n",
            "Epoch 4/25\n",
            "387/387 [==============================] - 81s 209ms/step - loss: 0.5440 - accuracy: 0.8256 - val_loss: 0.5187 - val_accuracy: 0.8338\n",
            "Epoch 5/25\n",
            "387/387 [==============================] - 81s 208ms/step - loss: 0.4307 - accuracy: 0.8613 - val_loss: 0.4387 - val_accuracy: 0.8555\n",
            "Epoch 6/25\n",
            "387/387 [==============================] - 81s 209ms/step - loss: 0.3910 - accuracy: 0.8702 - val_loss: 0.4161 - val_accuracy: 0.8739\n",
            "Epoch 7/25\n",
            "387/387 [==============================] - 81s 209ms/step - loss: 0.3185 - accuracy: 0.8871 - val_loss: 0.3931 - val_accuracy: 0.8775\n",
            "Epoch 8/25\n",
            "387/387 [==============================] - 81s 209ms/step - loss: 0.2855 - accuracy: 0.9003 - val_loss: 0.3230 - val_accuracy: 0.8978\n",
            "Epoch 9/25\n",
            "387/387 [==============================] - 81s 209ms/step - loss: 0.2509 - accuracy: 0.9126 - val_loss: 0.3710 - val_accuracy: 0.8898\n",
            "Epoch 10/25\n",
            "387/387 [==============================] - 81s 209ms/step - loss: 0.2377 - accuracy: 0.9158 - val_loss: 0.3888 - val_accuracy: 0.8927\n",
            "Epoch 11/25\n",
            "387/387 [==============================] - 81s 209ms/step - loss: 0.2035 - accuracy: 0.9296 - val_loss: 0.2775 - val_accuracy: 0.9040\n",
            "Epoch 12/25\n",
            "387/387 [==============================] - 81s 209ms/step - loss: 0.1932 - accuracy: 0.9330 - val_loss: 0.2475 - val_accuracy: 0.9172\n",
            "Epoch 13/25\n",
            "387/387 [==============================] - 81s 209ms/step - loss: 0.1598 - accuracy: 0.9460 - val_loss: 0.2012 - val_accuracy: 0.9324\n",
            "Epoch 14/25\n",
            "387/387 [==============================] - 81s 209ms/step - loss: 0.1530 - accuracy: 0.9468 - val_loss: 0.2230 - val_accuracy: 0.9318\n",
            "Epoch 15/25\n",
            "387/387 [==============================] - 81s 209ms/step - loss: 0.1421 - accuracy: 0.9515 - val_loss: 0.2423 - val_accuracy: 0.9350\n",
            "Epoch 16/25\n",
            "387/387 [==============================] - 81s 209ms/step - loss: 0.1367 - accuracy: 0.9542 - val_loss: 0.2017 - val_accuracy: 0.9357\n",
            "Epoch 17/25\n",
            "387/387 [==============================] - 81s 209ms/step - loss: 0.1284 - accuracy: 0.9557 - val_loss: 0.2018 - val_accuracy: 0.9360\n",
            "Epoch 18/25\n",
            "387/387 [==============================] - 81s 210ms/step - loss: 0.1016 - accuracy: 0.9675 - val_loss: 0.2910 - val_accuracy: 0.9285\n",
            "Epoch 19/25\n",
            "387/387 [==============================] - 81s 209ms/step - loss: 0.1141 - accuracy: 0.9613 - val_loss: 0.2453 - val_accuracy: 0.9273\n",
            "Epoch 20/25\n",
            "387/387 [==============================] - 81s 210ms/step - loss: 0.1174 - accuracy: 0.9594 - val_loss: 0.1799 - val_accuracy: 0.9460\n",
            "Epoch 21/25\n",
            "387/387 [==============================] - 81s 209ms/step - loss: 0.1065 - accuracy: 0.9640 - val_loss: 0.2466 - val_accuracy: 0.9395\n",
            "Epoch 22/25\n",
            "387/387 [==============================] - 81s 209ms/step - loss: 0.0924 - accuracy: 0.9690 - val_loss: 0.2620 - val_accuracy: 0.9318\n",
            "Epoch 23/25\n",
            "387/387 [==============================] - 81s 209ms/step - loss: 0.0806 - accuracy: 0.9737 - val_loss: 0.2376 - val_accuracy: 0.9282\n",
            "Epoch 24/25\n",
            "387/387 [==============================] - 81s 209ms/step - loss: 0.0938 - accuracy: 0.9670 - val_loss: 0.2090 - val_accuracy: 0.9412\n",
            "Epoch 25/25\n",
            "387/387 [==============================] - 81s 209ms/step - loss: 0.0767 - accuracy: 0.9739 - val_loss: 0.2282 - val_accuracy: 0.9437\n"
          ],
          "name": "stdout"
        },
        {
          "output_type": "stream",
          "text": [
            "\r  7%|▋         | 1/15 [34:01<7:56:24, 2041.72s/it]"
          ],
          "name": "stderr"
        },
        {
          "output_type": "stream",
          "text": [
            "Epoch 1/25\n",
            "387/387 [==============================] - 95s 220ms/step - loss: 2.3243 - accuracy: 0.5065 - val_loss: 1.0284 - val_accuracy: 0.7026\n",
            "Epoch 2/25\n",
            "387/387 [==============================] - 81s 208ms/step - loss: 1.0059 - accuracy: 0.7158 - val_loss: 0.7390 - val_accuracy: 0.7837\n",
            "Epoch 3/25\n",
            "387/387 [==============================] - 81s 209ms/step - loss: 0.7153 - accuracy: 0.7814 - val_loss: 0.6335 - val_accuracy: 0.8044\n",
            "Epoch 4/25\n",
            "387/387 [==============================] - 81s 209ms/step - loss: 0.5530 - accuracy: 0.8227 - val_loss: 0.4855 - val_accuracy: 0.8490\n",
            "Epoch 5/25\n",
            "387/387 [==============================] - 81s 209ms/step - loss: 0.4362 - accuracy: 0.8571 - val_loss: 0.4048 - val_accuracy: 0.8755\n",
            "Epoch 6/25\n",
            "387/387 [==============================] - 81s 208ms/step - loss: 0.3906 - accuracy: 0.8716 - val_loss: 0.3799 - val_accuracy: 0.8817\n",
            "Epoch 7/25\n",
            "387/387 [==============================] - 81s 208ms/step - loss: 0.3279 - accuracy: 0.8892 - val_loss: 0.3907 - val_accuracy: 0.8733\n",
            "Epoch 8/25\n",
            "387/387 [==============================] - 81s 209ms/step - loss: 0.2764 - accuracy: 0.9028 - val_loss: 0.4076 - val_accuracy: 0.8762\n",
            "Epoch 9/25\n",
            "387/387 [==============================] - 81s 209ms/step - loss: 0.2690 - accuracy: 0.9050 - val_loss: 0.2913 - val_accuracy: 0.9059\n",
            "Epoch 10/25\n",
            "387/387 [==============================] - 80s 208ms/step - loss: 0.2366 - accuracy: 0.9176 - val_loss: 0.3053 - val_accuracy: 0.9033\n",
            "Epoch 11/25\n",
            "387/387 [==============================] - 80s 208ms/step - loss: 0.2078 - accuracy: 0.9274 - val_loss: 0.3458 - val_accuracy: 0.8846\n",
            "Epoch 12/25\n",
            "387/387 [==============================] - 81s 209ms/step - loss: 0.1856 - accuracy: 0.9340 - val_loss: 0.2676 - val_accuracy: 0.9211\n",
            "Epoch 13/25\n",
            "387/387 [==============================] - 81s 209ms/step - loss: 0.1613 - accuracy: 0.9411 - val_loss: 0.2863 - val_accuracy: 0.9066\n",
            "Epoch 14/25\n",
            "387/387 [==============================] - 81s 209ms/step - loss: 0.1731 - accuracy: 0.9404 - val_loss: 0.2557 - val_accuracy: 0.9269\n",
            "Epoch 15/25\n",
            "387/387 [==============================] - 81s 209ms/step - loss: 0.1354 - accuracy: 0.9556 - val_loss: 0.2552 - val_accuracy: 0.9334\n",
            "Epoch 16/25\n",
            "387/387 [==============================] - 81s 209ms/step - loss: 0.1348 - accuracy: 0.9528 - val_loss: 0.1997 - val_accuracy: 0.9392\n",
            "Epoch 17/25\n",
            "387/387 [==============================] - 81s 209ms/step - loss: 0.1135 - accuracy: 0.9610 - val_loss: 0.2251 - val_accuracy: 0.9234\n",
            "Epoch 18/25\n",
            "387/387 [==============================] - 81s 209ms/step - loss: 0.1194 - accuracy: 0.9593 - val_loss: 0.2287 - val_accuracy: 0.9389\n",
            "Epoch 19/25\n",
            "387/387 [==============================] - 81s 209ms/step - loss: 0.1115 - accuracy: 0.9592 - val_loss: 0.2808 - val_accuracy: 0.9211\n",
            "Epoch 20/25\n",
            "387/387 [==============================] - 81s 209ms/step - loss: 0.1048 - accuracy: 0.9651 - val_loss: 0.2566 - val_accuracy: 0.9376\n",
            "Epoch 21/25\n",
            "387/387 [==============================] - 81s 209ms/step - loss: 0.1001 - accuracy: 0.9648 - val_loss: 0.2779 - val_accuracy: 0.9247\n",
            "Epoch 22/25\n",
            "387/387 [==============================] - 81s 209ms/step - loss: 0.0953 - accuracy: 0.9676 - val_loss: 0.2600 - val_accuracy: 0.9418\n",
            "Epoch 23/25\n",
            "387/387 [==============================] - 81s 209ms/step - loss: 0.0788 - accuracy: 0.9724 - val_loss: 0.1935 - val_accuracy: 0.9412\n",
            "Epoch 24/25\n",
            "387/387 [==============================] - 81s 209ms/step - loss: 0.0865 - accuracy: 0.9680 - val_loss: 0.2003 - val_accuracy: 0.9512\n",
            "Epoch 25/25\n",
            "387/387 [==============================] - 81s 208ms/step - loss: 0.0896 - accuracy: 0.9715 - val_loss: 0.1620 - val_accuracy: 0.9502\n"
          ],
          "name": "stdout"
        },
        {
          "output_type": "stream",
          "text": [
            "\r 13%|█▎        | 2/15 [1:07:57<7:21:57, 2039.82s/it]"
          ],
          "name": "stderr"
        },
        {
          "output_type": "stream",
          "text": [
            "Epoch 1/25\n",
            "387/387 [==============================] - 94s 218ms/step - loss: 2.3090 - accuracy: 0.5106 - val_loss: 1.1193 - val_accuracy: 0.6725\n",
            "Epoch 2/25\n",
            "387/387 [==============================] - 80s 207ms/step - loss: 1.0205 - accuracy: 0.7060 - val_loss: 0.7121 - val_accuracy: 0.7824\n",
            "Epoch 3/25\n",
            "387/387 [==============================] - 80s 208ms/step - loss: 0.7176 - accuracy: 0.7861 - val_loss: 0.6932 - val_accuracy: 0.7947\n",
            "Epoch 4/25\n",
            "387/387 [==============================] - 80s 208ms/step - loss: 0.5728 - accuracy: 0.8157 - val_loss: 0.5882 - val_accuracy: 0.8099\n",
            "Epoch 5/25\n",
            "387/387 [==============================] - 80s 208ms/step - loss: 0.4907 - accuracy: 0.8392 - val_loss: 0.4771 - val_accuracy: 0.8613\n",
            "Epoch 6/25\n",
            "387/387 [==============================] - 80s 208ms/step - loss: 0.3919 - accuracy: 0.8651 - val_loss: 0.4515 - val_accuracy: 0.8655\n",
            "Epoch 7/25\n",
            "387/387 [==============================] - 80s 208ms/step - loss: 0.3360 - accuracy: 0.8907 - val_loss: 0.4093 - val_accuracy: 0.8707\n",
            "Epoch 8/25\n",
            "387/387 [==============================] - 81s 208ms/step - loss: 0.2896 - accuracy: 0.8991 - val_loss: 0.4650 - val_accuracy: 0.8691\n",
            "Epoch 9/25\n",
            "387/387 [==============================] - 81s 208ms/step - loss: 0.2603 - accuracy: 0.9092 - val_loss: 0.3771 - val_accuracy: 0.8862\n",
            "Epoch 10/25\n",
            "387/387 [==============================] - 80s 208ms/step - loss: 0.2274 - accuracy: 0.9189 - val_loss: 0.3420 - val_accuracy: 0.9111\n",
            "Epoch 11/25\n",
            "387/387 [==============================] - 80s 208ms/step - loss: 0.1994 - accuracy: 0.9317 - val_loss: 0.3004 - val_accuracy: 0.9150\n",
            "Epoch 12/25\n",
            "387/387 [==============================] - 80s 208ms/step - loss: 0.1825 - accuracy: 0.9370 - val_loss: 0.2970 - val_accuracy: 0.9030\n",
            "Epoch 13/25\n",
            "387/387 [==============================] - 80s 207ms/step - loss: 0.1654 - accuracy: 0.9465 - val_loss: 0.2488 - val_accuracy: 0.9276\n",
            "Epoch 14/25\n",
            "387/387 [==============================] - 80s 207ms/step - loss: 0.1459 - accuracy: 0.9492 - val_loss: 0.2269 - val_accuracy: 0.9234\n",
            "Epoch 15/25\n",
            "387/387 [==============================] - 80s 208ms/step - loss: 0.1482 - accuracy: 0.9474 - val_loss: 0.2414 - val_accuracy: 0.9221\n",
            "Epoch 16/25\n",
            "387/387 [==============================] - 80s 208ms/step - loss: 0.1287 - accuracy: 0.9548 - val_loss: 0.2893 - val_accuracy: 0.9234\n",
            "Epoch 17/25\n",
            "387/387 [==============================] - 80s 207ms/step - loss: 0.1347 - accuracy: 0.9511 - val_loss: 0.3600 - val_accuracy: 0.9017\n",
            "Epoch 18/25\n",
            "387/387 [==============================] - 80s 207ms/step - loss: 0.1218 - accuracy: 0.9605 - val_loss: 0.2468 - val_accuracy: 0.9269\n",
            "Epoch 19/25\n",
            "198/387 [==============>...............] - ETA: 36s - loss: 0.1232 - accuracy: 0.9554"
          ],
          "name": "stdout"
        },
        {
          "output_type": "error",
          "ename": "KeyboardInterrupt",
          "evalue": "ignored",
          "traceback": [
            "\u001b[0;31m---------------------------------------------------------------------------\u001b[0m",
            "\u001b[0;31mKeyboardInterrupt\u001b[0m                         Traceback (most recent call last)",
            "\u001b[0;32m<ipython-input-14-c37f37215686>\u001b[0m in \u001b[0;36m<module>\u001b[0;34m()\u001b[0m\n\u001b[1;32m      7\u001b[0m               \u001b[0moptimizer\u001b[0m\u001b[0;34m=\u001b[0m\u001b[0;34m'adam'\u001b[0m\u001b[0;34m,\u001b[0m\u001b[0;34m\u001b[0m\u001b[0;34m\u001b[0m\u001b[0m\n\u001b[1;32m      8\u001b[0m               metrics=['accuracy'])\n\u001b[0;32m----> 9\u001b[0;31m     \u001b[0mmodel\u001b[0m\u001b[0;34m.\u001b[0m\u001b[0mfit\u001b[0m\u001b[0;34m(\u001b[0m\u001b[0mx_arg\u001b[0m\u001b[0;34m,\u001b[0m\u001b[0my_arg\u001b[0m\u001b[0;34m,\u001b[0m \u001b[0mepochs\u001b[0m\u001b[0;34m=\u001b[0m\u001b[0;36m25\u001b[0m\u001b[0;34m,\u001b[0m \u001b[0mbatch_size\u001b[0m\u001b[0;34m=\u001b[0m\u001b[0;36m32\u001b[0m\u001b[0;34m,\u001b[0m\u001b[0mvalidation_split\u001b[0m\u001b[0;34m=\u001b[0m\u001b[0;36m0.2\u001b[0m\u001b[0;34m)\u001b[0m\u001b[0;34m\u001b[0m\u001b[0;34m\u001b[0m\u001b[0m\n\u001b[0m\u001b[1;32m     10\u001b[0m     \u001b[0mmodel_list\u001b[0m\u001b[0;34m.\u001b[0m\u001b[0mappend\u001b[0m\u001b[0;34m(\u001b[0m\u001b[0mmodel\u001b[0m\u001b[0;34m)\u001b[0m\u001b[0;34m\u001b[0m\u001b[0;34m\u001b[0m\u001b[0m\n\u001b[1;32m     11\u001b[0m     \u001b[0mmodel\u001b[0m\u001b[0;34m.\u001b[0m\u001b[0msave\u001b[0m\u001b[0;34m(\u001b[0m\u001b[0;34mf\"./model_1dcnn+lstm/model_{i}.h5\"\u001b[0m\u001b[0;34m)\u001b[0m\u001b[0;34m\u001b[0m\u001b[0;34m\u001b[0m\u001b[0m\n",
            "\u001b[0;32m/usr/local/lib/python3.7/dist-packages/tensorflow/python/keras/engine/training.py\u001b[0m in \u001b[0;36mfit\u001b[0;34m(self, x, y, batch_size, epochs, verbose, callbacks, validation_split, validation_data, shuffle, class_weight, sample_weight, initial_epoch, steps_per_epoch, validation_steps, validation_batch_size, validation_freq, max_queue_size, workers, use_multiprocessing)\u001b[0m\n\u001b[1;32m   1098\u001b[0m                 _r=1):\n\u001b[1;32m   1099\u001b[0m               \u001b[0mcallbacks\u001b[0m\u001b[0;34m.\u001b[0m\u001b[0mon_train_batch_begin\u001b[0m\u001b[0;34m(\u001b[0m\u001b[0mstep\u001b[0m\u001b[0;34m)\u001b[0m\u001b[0;34m\u001b[0m\u001b[0;34m\u001b[0m\u001b[0m\n\u001b[0;32m-> 1100\u001b[0;31m               \u001b[0mtmp_logs\u001b[0m \u001b[0;34m=\u001b[0m \u001b[0mself\u001b[0m\u001b[0;34m.\u001b[0m\u001b[0mtrain_function\u001b[0m\u001b[0;34m(\u001b[0m\u001b[0miterator\u001b[0m\u001b[0;34m)\u001b[0m\u001b[0;34m\u001b[0m\u001b[0;34m\u001b[0m\u001b[0m\n\u001b[0m\u001b[1;32m   1101\u001b[0m               \u001b[0;32mif\u001b[0m \u001b[0mdata_handler\u001b[0m\u001b[0;34m.\u001b[0m\u001b[0mshould_sync\u001b[0m\u001b[0;34m:\u001b[0m\u001b[0;34m\u001b[0m\u001b[0;34m\u001b[0m\u001b[0m\n\u001b[1;32m   1102\u001b[0m                 \u001b[0mcontext\u001b[0m\u001b[0;34m.\u001b[0m\u001b[0masync_wait\u001b[0m\u001b[0;34m(\u001b[0m\u001b[0;34m)\u001b[0m\u001b[0;34m\u001b[0m\u001b[0;34m\u001b[0m\u001b[0m\n",
            "\u001b[0;32m/usr/local/lib/python3.7/dist-packages/tensorflow/python/eager/def_function.py\u001b[0m in \u001b[0;36m__call__\u001b[0;34m(self, *args, **kwds)\u001b[0m\n\u001b[1;32m    826\u001b[0m     \u001b[0mtracing_count\u001b[0m \u001b[0;34m=\u001b[0m \u001b[0mself\u001b[0m\u001b[0;34m.\u001b[0m\u001b[0mexperimental_get_tracing_count\u001b[0m\u001b[0;34m(\u001b[0m\u001b[0;34m)\u001b[0m\u001b[0;34m\u001b[0m\u001b[0;34m\u001b[0m\u001b[0m\n\u001b[1;32m    827\u001b[0m     \u001b[0;32mwith\u001b[0m \u001b[0mtrace\u001b[0m\u001b[0;34m.\u001b[0m\u001b[0mTrace\u001b[0m\u001b[0;34m(\u001b[0m\u001b[0mself\u001b[0m\u001b[0;34m.\u001b[0m\u001b[0m_name\u001b[0m\u001b[0;34m)\u001b[0m \u001b[0;32mas\u001b[0m \u001b[0mtm\u001b[0m\u001b[0;34m:\u001b[0m\u001b[0;34m\u001b[0m\u001b[0;34m\u001b[0m\u001b[0m\n\u001b[0;32m--> 828\u001b[0;31m       \u001b[0mresult\u001b[0m \u001b[0;34m=\u001b[0m \u001b[0mself\u001b[0m\u001b[0;34m.\u001b[0m\u001b[0m_call\u001b[0m\u001b[0;34m(\u001b[0m\u001b[0;34m*\u001b[0m\u001b[0margs\u001b[0m\u001b[0;34m,\u001b[0m \u001b[0;34m**\u001b[0m\u001b[0mkwds\u001b[0m\u001b[0;34m)\u001b[0m\u001b[0;34m\u001b[0m\u001b[0;34m\u001b[0m\u001b[0m\n\u001b[0m\u001b[1;32m    829\u001b[0m       \u001b[0mcompiler\u001b[0m \u001b[0;34m=\u001b[0m \u001b[0;34m\"xla\"\u001b[0m \u001b[0;32mif\u001b[0m \u001b[0mself\u001b[0m\u001b[0;34m.\u001b[0m\u001b[0m_experimental_compile\u001b[0m \u001b[0;32melse\u001b[0m \u001b[0;34m\"nonXla\"\u001b[0m\u001b[0;34m\u001b[0m\u001b[0;34m\u001b[0m\u001b[0m\n\u001b[1;32m    830\u001b[0m       \u001b[0mnew_tracing_count\u001b[0m \u001b[0;34m=\u001b[0m \u001b[0mself\u001b[0m\u001b[0;34m.\u001b[0m\u001b[0mexperimental_get_tracing_count\u001b[0m\u001b[0;34m(\u001b[0m\u001b[0;34m)\u001b[0m\u001b[0;34m\u001b[0m\u001b[0;34m\u001b[0m\u001b[0m\n",
            "\u001b[0;32m/usr/local/lib/python3.7/dist-packages/tensorflow/python/eager/def_function.py\u001b[0m in \u001b[0;36m_call\u001b[0;34m(self, *args, **kwds)\u001b[0m\n\u001b[1;32m    853\u001b[0m       \u001b[0;31m# In this case we have created variables on the first call, so we run the\u001b[0m\u001b[0;34m\u001b[0m\u001b[0;34m\u001b[0m\u001b[0;34m\u001b[0m\u001b[0m\n\u001b[1;32m    854\u001b[0m       \u001b[0;31m# defunned version which is guaranteed to never create variables.\u001b[0m\u001b[0;34m\u001b[0m\u001b[0;34m\u001b[0m\u001b[0;34m\u001b[0m\u001b[0m\n\u001b[0;32m--> 855\u001b[0;31m       \u001b[0;32mreturn\u001b[0m \u001b[0mself\u001b[0m\u001b[0;34m.\u001b[0m\u001b[0m_stateless_fn\u001b[0m\u001b[0;34m(\u001b[0m\u001b[0;34m*\u001b[0m\u001b[0margs\u001b[0m\u001b[0;34m,\u001b[0m \u001b[0;34m**\u001b[0m\u001b[0mkwds\u001b[0m\u001b[0;34m)\u001b[0m  \u001b[0;31m# pylint: disable=not-callable\u001b[0m\u001b[0;34m\u001b[0m\u001b[0;34m\u001b[0m\u001b[0m\n\u001b[0m\u001b[1;32m    856\u001b[0m     \u001b[0;32melif\u001b[0m \u001b[0mself\u001b[0m\u001b[0;34m.\u001b[0m\u001b[0m_stateful_fn\u001b[0m \u001b[0;32mis\u001b[0m \u001b[0;32mnot\u001b[0m \u001b[0;32mNone\u001b[0m\u001b[0;34m:\u001b[0m\u001b[0;34m\u001b[0m\u001b[0;34m\u001b[0m\u001b[0m\n\u001b[1;32m    857\u001b[0m       \u001b[0;31m# Release the lock early so that multiple threads can perform the call\u001b[0m\u001b[0;34m\u001b[0m\u001b[0;34m\u001b[0m\u001b[0;34m\u001b[0m\u001b[0m\n",
            "\u001b[0;32m/usr/local/lib/python3.7/dist-packages/tensorflow/python/eager/function.py\u001b[0m in \u001b[0;36m__call__\u001b[0;34m(self, *args, **kwargs)\u001b[0m\n\u001b[1;32m   2941\u001b[0m        filtered_flat_args) = self._maybe_define_function(args, kwargs)\n\u001b[1;32m   2942\u001b[0m     return graph_function._call_flat(\n\u001b[0;32m-> 2943\u001b[0;31m         filtered_flat_args, captured_inputs=graph_function.captured_inputs)  # pylint: disable=protected-access\n\u001b[0m\u001b[1;32m   2944\u001b[0m \u001b[0;34m\u001b[0m\u001b[0m\n\u001b[1;32m   2945\u001b[0m   \u001b[0;34m@\u001b[0m\u001b[0mproperty\u001b[0m\u001b[0;34m\u001b[0m\u001b[0;34m\u001b[0m\u001b[0m\n",
            "\u001b[0;32m/usr/local/lib/python3.7/dist-packages/tensorflow/python/eager/function.py\u001b[0m in \u001b[0;36m_call_flat\u001b[0;34m(self, args, captured_inputs, cancellation_manager)\u001b[0m\n\u001b[1;32m   1917\u001b[0m       \u001b[0;31m# No tape is watching; skip to running the function.\u001b[0m\u001b[0;34m\u001b[0m\u001b[0;34m\u001b[0m\u001b[0;34m\u001b[0m\u001b[0m\n\u001b[1;32m   1918\u001b[0m       return self._build_call_outputs(self._inference_function.call(\n\u001b[0;32m-> 1919\u001b[0;31m           ctx, args, cancellation_manager=cancellation_manager))\n\u001b[0m\u001b[1;32m   1920\u001b[0m     forward_backward = self._select_forward_and_backward_functions(\n\u001b[1;32m   1921\u001b[0m         \u001b[0margs\u001b[0m\u001b[0;34m,\u001b[0m\u001b[0;34m\u001b[0m\u001b[0;34m\u001b[0m\u001b[0m\n",
            "\u001b[0;32m/usr/local/lib/python3.7/dist-packages/tensorflow/python/eager/function.py\u001b[0m in \u001b[0;36mcall\u001b[0;34m(self, ctx, args, cancellation_manager)\u001b[0m\n\u001b[1;32m    558\u001b[0m               \u001b[0minputs\u001b[0m\u001b[0;34m=\u001b[0m\u001b[0margs\u001b[0m\u001b[0;34m,\u001b[0m\u001b[0;34m\u001b[0m\u001b[0;34m\u001b[0m\u001b[0m\n\u001b[1;32m    559\u001b[0m               \u001b[0mattrs\u001b[0m\u001b[0;34m=\u001b[0m\u001b[0mattrs\u001b[0m\u001b[0;34m,\u001b[0m\u001b[0;34m\u001b[0m\u001b[0;34m\u001b[0m\u001b[0m\n\u001b[0;32m--> 560\u001b[0;31m               ctx=ctx)\n\u001b[0m\u001b[1;32m    561\u001b[0m         \u001b[0;32melse\u001b[0m\u001b[0;34m:\u001b[0m\u001b[0;34m\u001b[0m\u001b[0;34m\u001b[0m\u001b[0m\n\u001b[1;32m    562\u001b[0m           outputs = execute.execute_with_cancellation(\n",
            "\u001b[0;32m/usr/local/lib/python3.7/dist-packages/tensorflow/python/eager/execute.py\u001b[0m in \u001b[0;36mquick_execute\u001b[0;34m(op_name, num_outputs, inputs, attrs, ctx, name)\u001b[0m\n\u001b[1;32m     58\u001b[0m     \u001b[0mctx\u001b[0m\u001b[0;34m.\u001b[0m\u001b[0mensure_initialized\u001b[0m\u001b[0;34m(\u001b[0m\u001b[0;34m)\u001b[0m\u001b[0;34m\u001b[0m\u001b[0;34m\u001b[0m\u001b[0m\n\u001b[1;32m     59\u001b[0m     tensors = pywrap_tfe.TFE_Py_Execute(ctx._handle, device_name, op_name,\n\u001b[0;32m---> 60\u001b[0;31m                                         inputs, attrs, num_outputs)\n\u001b[0m\u001b[1;32m     61\u001b[0m   \u001b[0;32mexcept\u001b[0m \u001b[0mcore\u001b[0m\u001b[0;34m.\u001b[0m\u001b[0m_NotOkStatusException\u001b[0m \u001b[0;32mas\u001b[0m \u001b[0me\u001b[0m\u001b[0;34m:\u001b[0m\u001b[0;34m\u001b[0m\u001b[0;34m\u001b[0m\u001b[0m\n\u001b[1;32m     62\u001b[0m     \u001b[0;32mif\u001b[0m \u001b[0mname\u001b[0m \u001b[0;32mis\u001b[0m \u001b[0;32mnot\u001b[0m \u001b[0;32mNone\u001b[0m\u001b[0;34m:\u001b[0m\u001b[0;34m\u001b[0m\u001b[0;34m\u001b[0m\u001b[0m\n",
            "\u001b[0;31mKeyboardInterrupt\u001b[0m: "
          ]
        }
      ]
    },
    {
      "cell_type": "code",
      "metadata": {
        "id": "MKu5zYblAKFN"
      },
      "source": [
        "models = []\n",
        "for i in tqdm(range(0, 15)):\n",
        "    model_name = f\"model_{i}.h5\"\n",
        "    models.append(keras.models.load_model(model_name))\n",
        "\n",
        "print(f\"{len(models)} models reloaded\")"
      ],
      "execution_count": null,
      "outputs": []
    },
    {
      "cell_type": "code",
      "metadata": {
        "id": "ucfExdC9AKF0"
      },
      "source": [
        "x_val_trans = x_val_trans.reshape(-1,600,6)\n",
        "preds = np.zeros(shape=y_test.shape)\n",
        "test_preds_list=[]\n",
        "\n",
        "for model, i in zip(models, range(len(models))):\n",
        "  b = model.predict(x_val_trans)\n",
        "  print(f\"Model {i+1}\")\n",
        "  preds = preds + b\n",
        "  test_preds_list.append(b)\n",
        "    \n",
        "preds = preds / len(models)\n"
      ],
      "execution_count": null,
      "outputs": []
    },
    {
      "cell_type": "code",
      "metadata": {
        "id": "0-JlBz-HAKGd"
      },
      "source": [
        ""
      ],
      "execution_count": null,
      "outputs": []
    },
    {
      "cell_type": "code",
      "metadata": {
        "id": "zUK4aKaUAKHG"
      },
      "source": [
        "def logloss(y_true, y_pred, eps=1e-15):\n",
        "    y_pred = np.clip(y_pred, eps, 1 - eps)\n",
        "    return -(y_true * np.log(y_pred)).sum(axis=1).mean()\n",
        "\n",
        "logloss(y_test, preds)"
      ],
      "execution_count": null,
      "outputs": []
    },
    {
      "cell_type": "code",
      "metadata": {
        "id": "qp1Y1CL2AKHx"
      },
      "source": [
        "for j in range(len(test_preds_list)):\n",
        "  print('model {}'.format(j))\n",
        "  print(logloss(y_test, test_preds_list[j]))\n",
        "  # print('\\n')"
      ],
      "execution_count": null,
      "outputs": []
    },
    {
      "cell_type": "code",
      "metadata": {
        "id": "Sk3wvTmDAKIW"
      },
      "source": [
        "test=pd.read_csv('test_features.csv')\n",
        "\n",
        "column_list = ['acc_x','acc_y','acc_z','gy_x','gy_y','gy_z']\n",
        "for column in column_list:\n",
        "  test[column] = (test[column]-test[column].mean())/test[column].std()\n",
        "\n",
        "x_sub = []\n",
        "\n",
        "for uid in tqdm(test['id'].unique()):\n",
        "    temp = np.array(test[test['id'] == uid].iloc[:,2:], np.float32).T\n",
        "    x_sub.append(temp)\n",
        "\n",
        "test_X = np.array(x_sub, np.float32)\n",
        "test_X = test_X[:,:,:,np.newaxis]\n",
        "test_X.shape"
      ],
      "execution_count": null,
      "outputs": []
    },
    {
      "cell_type": "code",
      "metadata": {
        "id": "3HnpAmQ-AKI9"
      },
      "source": [
        "test_X_trans = np.transpose(test_X,(0,2,1,3))"
      ],
      "execution_count": null,
      "outputs": []
    },
    {
      "cell_type": "code",
      "metadata": {
        "id": "BqC-YmhIAiES"
      },
      "source": [
        "preds = np.zeros(shape=(782,61))\n",
        "test_preds_list=[]\n",
        "for model, i in zip(models, range(len(models))):\n",
        "    b = model.predict(test_X_trans)\n",
        "    print(f\"Model {i+1}\")\n",
        "    preds = preds + b\n",
        "    test_preds_list.append(b)\n",
        "  \n",
        "preds = preds / len(models)"
      ],
      "execution_count": null,
      "outputs": []
    },
    {
      "cell_type": "code",
      "metadata": {
        "id": "JgKGj7YNAiHF"
      },
      "source": [
        "submission.iloc[:,1:]=preds\n",
        "submission.to_csv('final2_submission.csv', index=False)"
      ],
      "execution_count": null,
      "outputs": []
    },
    {
      "cell_type": "code",
      "metadata": {
        "id": "zkHMQqPXAiKD"
      },
      "source": [
        ""
      ],
      "execution_count": null,
      "outputs": []
    }
  ]
}